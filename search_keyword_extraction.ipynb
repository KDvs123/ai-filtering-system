{
 "cells": [
  {
   "cell_type": "code",
   "execution_count": null,
   "metadata": {},
   "outputs": [],
   "source": []
  },
  {
   "cell_type": "code",
   "execution_count": 24,
   "metadata": {},
   "outputs": [],
   "source": [
    "from datetime import datetime"
   ]
  },
  {
   "cell_type": "code",
   "execution_count": 26,
   "metadata": {},
   "outputs": [
    {
     "name": "stdout",
     "output_type": "stream",
     "text": [
      "Current Date and Time is: 2024-07-24 21:29:57.290083\n"
     ]
    }
   ],
   "source": [
    "c = datetime.now()\n",
    "\n",
    "# Displays Date along with Time\n",
    "print('Current Date and Time is:', c)"
   ]
  },
  {
   "cell_type": "code",
   "execution_count": 15,
   "metadata": {},
   "outputs": [
    {
     "name": "stdout",
     "output_type": "stream",
     "text": [
      "Requirement already satisfied: openai in c:\\users\\vihanga\\appdata\\local\\programs\\python\\python312\\lib\\site-packages (1.35.14)\n",
      "Requirement already satisfied: anyio<5,>=3.5.0 in c:\\users\\vihanga\\appdata\\local\\programs\\python\\python312\\lib\\site-packages (from openai) (4.2.0)\n",
      "Requirement already satisfied: distro<2,>=1.7.0 in c:\\users\\vihanga\\appdata\\local\\programs\\python\\python312\\lib\\site-packages (from openai) (1.9.0)\n",
      "Requirement already satisfied: httpx<1,>=0.23.0 in c:\\users\\vihanga\\appdata\\local\\programs\\python\\python312\\lib\\site-packages (from openai) (0.26.0)\n",
      "Requirement already satisfied: pydantic<3,>=1.9.0 in c:\\users\\vihanga\\appdata\\local\\programs\\python\\python312\\lib\\site-packages (from openai) (2.5.3)\n",
      "Requirement already satisfied: sniffio in c:\\users\\vihanga\\appdata\\local\\programs\\python\\python312\\lib\\site-packages (from openai) (1.3.0)\n",
      "Requirement already satisfied: tqdm>4 in c:\\users\\vihanga\\appdata\\local\\programs\\python\\python312\\lib\\site-packages (from openai) (4.66.1)\n",
      "Requirement already satisfied: typing-extensions<5,>=4.7 in c:\\users\\vihanga\\appdata\\local\\programs\\python\\python312\\lib\\site-packages (from openai) (4.9.0)\n",
      "Requirement already satisfied: idna>=2.8 in c:\\users\\vihanga\\appdata\\local\\programs\\python\\python312\\lib\\site-packages (from anyio<5,>=3.5.0->openai) (3.6)\n",
      "Requirement already satisfied: certifi in c:\\users\\vihanga\\appdata\\local\\programs\\python\\python312\\lib\\site-packages (from httpx<1,>=0.23.0->openai) (2023.11.17)\n",
      "Requirement already satisfied: httpcore==1.* in c:\\users\\vihanga\\appdata\\local\\programs\\python\\python312\\lib\\site-packages (from httpx<1,>=0.23.0->openai) (1.0.2)\n",
      "Requirement already satisfied: h11<0.15,>=0.13 in c:\\users\\vihanga\\appdata\\local\\programs\\python\\python312\\lib\\site-packages (from httpcore==1.*->httpx<1,>=0.23.0->openai) (0.14.0)\n",
      "Requirement already satisfied: annotated-types>=0.4.0 in c:\\users\\vihanga\\appdata\\local\\programs\\python\\python312\\lib\\site-packages (from pydantic<3,>=1.9.0->openai) (0.6.0)\n",
      "Requirement already satisfied: pydantic-core==2.14.6 in c:\\users\\vihanga\\appdata\\local\\programs\\python\\python312\\lib\\site-packages (from pydantic<3,>=1.9.0->openai) (2.14.6)\n",
      "Requirement already satisfied: colorama in c:\\users\\vihanga\\appdata\\local\\programs\\python\\python312\\lib\\site-packages (from tqdm>4->openai) (0.4.6)\n",
      "Note: you may need to restart the kernel to use updated packages.\n"
     ]
    },
    {
     "name": "stderr",
     "output_type": "stream",
     "text": [
      "\n",
      "[notice] A new release of pip is available: 24.0 -> 24.1.2\n",
      "[notice] To update, run: python.exe -m pip install --upgrade pip\n"
     ]
    }
   ],
   "source": [
    "pip install --upgrade openai"
   ]
  },
  {
   "cell_type": "code",
   "execution_count": 16,
   "metadata": {},
   "outputs": [],
   "source": [
    "from openai import OpenAI\n",
    "import pandas as pd\n",
    "import numpy as np\n",
    "import json"
   ]
  },
  {
   "cell_type": "code",
   "execution_count": 17,
   "metadata": {},
   "outputs": [
    {
     "name": "stdout",
     "output_type": "stream",
     "text": [
      "   id                                             prompt  user_id  tenant_id  \\\n",
      "0   1  Can you filter out all tasks that have been ma...  23456.0      456.0   \n",
      "1   2  I need a list of tasks that are escalated and ...      NaN        NaN   \n",
      "2   3  Show me all tasks that are marked as approved ...  11223.0        NaN   \n",
      "3   4  Find tasks with the type 'input' and created b...  45678.0      123.0   \n",
      "4   5  Locate tasks with the workflow node name 'Appr...      NaN        NaN   \n",
      "\n",
      "  user_group_id workflow_id    card_id label_id label_name workflow_node_name  \\\n",
      "0           NaN         NaN        NaN      NaN        NaN                NaN   \n",
      "1      group987         NaN        NaN      NaN     Urgent                NaN   \n",
      "2           NaN     card123        NaN   Review        NaN           approved   \n",
      "3           NaN         NaN        NaN      NaN        NaN              input   \n",
      "4           NaN         NaN  parent456      NaN        NaN           Approval   \n",
      "\n",
      "      status    type           comment        due_date  created_date  \n",
      "0       done     NaN         completed             NaN           NaN  \n",
      "1  processed     NaN               NaN      last month           NaN  \n",
      "2        NaN     NaN         next week             NaN           NaN  \n",
      "3        new     NaN  within the month             NaN           NaN  \n",
      "4   rejected  urgent               NaN  last two weeks           NaN  \n"
     ]
    }
   ],
   "source": [
    "dataset = pd.read_csv('dataset/search_keywords.csv')\n",
    "print(dataset.head(5))"
   ]
  },
  {
   "cell_type": "code",
   "execution_count": 22,
   "metadata": {},
   "outputs": [],
   "source": [
    "def extract_data_from_keyword(keyword):\n",
    "    # Load system content and user content\n",
    "    system_content = load_prompt('prompts/search_keywords_system_prompt.txt')\n",
    "    \n",
    "    user_content = f\"Keywords: {keyword}\"\n",
    "\n",
    "    # Initialize the OpenAI API client\n",
    "    client = OpenAI()\n",
    "\n",
    "    # Make a request to the OpenAI API to generate a chat completion\n",
    "    chat_completion = client.chat.completions.create(\n",
    "        messages=[\n",
    "            {\n",
    "                \"role\": \"system\",\n",
    "                \"content\": system_content\n",
    "            },\n",
    "            {\n",
    "                \"role\": \"user\",\n",
    "                \"content\": user_content\n",
    "            }\n",
    "        ],\n",
    "        model=\"gpt-3.5-turbo\",\n",
    "        temperature=0.3,\n",
    "        max_tokens=4096,\n",
    "        top_p=0.8,\n",
    "        response_format={ \"type\": \"json_object\" }\n",
    "    )\n",
    "\n",
    "    # Extract the completion result and token usage information from the response\n",
    "    completion = chat_completion.choices[0].message.content\n",
    "    result = json.loads(completion)\n",
    "    prompt_tokens_used = chat_completion.usage.prompt_tokens\n",
    "    completion_tokens_used = chat_completion.usage.completion_tokens\n",
    "\n",
    "    return result, prompt_tokens_used, completion_tokens_used"
   ]
  },
  {
   "cell_type": "code",
   "execution_count": 20,
   "metadata": {},
   "outputs": [],
   "source": [
    "def load_prompt(file_path):\n",
    "    with open(file_path, 'r') as file:\n",
    "        return file.read()"
   ]
  },
  {
   "cell_type": "code",
   "execution_count": 23,
   "metadata": {},
   "outputs": [
    {
     "name": "stdout",
     "output_type": "stream",
     "text": [
      "Result : {'id': '', 'title': '', 'type': 'Approved', 'card_id': 'card123', 'due_date': 'Next week', 'created_date': '', 'completed_date': '', 'status': '', 'node_id': '', 'node_name': '', 'comment': '', 'label_id': '', 'label_name': 'Review', 'escalated': False, 'processed': False, 'optional': False, 'is_sub_task': False, 'parent_id': '', 'has_sub_tasks': False, 'claimable': False, 'tenant_id': '', 'workflow_id': '', 'user_id': '11223', 'usergroup_id': ''}\n",
      "Prompt Tokens Used : 802\n",
      "Completion Tokens Used : 161\n"
     ]
    }
   ],
   "source": [
    "keyword = \"Show me all tasks that are marked as approved and were created by user ID 11223. Additionally, they should have a due date in the next week, contain the label name 'Review', and be associated with card ID 'card123'.\"\n",
    "result, prompt_tokens_used, completion_tokens_used = extract_data_from_keyword(keyword)\n",
    "\n",
    "print(f\"Result : {result}\")\n",
    "print(f\"Prompt Tokens Used : {prompt_tokens_used}\")\n",
    "print(f\"Completion Tokens Used : {completion_tokens_used}\")"
   ]
  },
  {
   "cell_type": "code",
   "execution_count": null,
   "metadata": {},
   "outputs": [],
   "source": []
  }
 ],
 "metadata": {
  "kernelspec": {
   "display_name": "Python 3",
   "language": "python",
   "name": "python3"
  },
  "language_info": {
   "codemirror_mode": {
    "name": "ipython",
    "version": 3
   },
   "file_extension": ".py",
   "mimetype": "text/x-python",
   "name": "python",
   "nbconvert_exporter": "python",
   "pygments_lexer": "ipython3",
   "version": "3.12.4"
  }
 },
 "nbformat": 4,
 "nbformat_minor": 2
}
